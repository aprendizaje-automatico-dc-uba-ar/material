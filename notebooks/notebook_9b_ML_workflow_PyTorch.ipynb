{
 "cells": [
  {
   "cell_type": "markdown",
   "metadata": {
    "id": "OgYkrRCRec0r"
   },
   "source": [
    "# Machine Learning workflow en PyTorch"
   ]
  },
  {
   "cell_type": "markdown",
   "metadata": {
    "id": "51Ug7Ug123Ip"
   },
   "source": [
    "En este notebook vamos a cubrir un flujo de trabajo estándar de PyTorch (puede ser modificado según sea necesario, pero cubre los principales pasos).\n",
    "\n",
    "<img src=\"https://raw.githubusercontent.com/mrdbourke/pytorch-deep-learning/main/images/01_a_pytorch_workflow.png\" width=900 alt=\"diagrama de flujo de trabajo de pytorch\"/>\n",
    "\n",
    "Por ahora, usaremos este flujo de trabajo para predecir una simple línea recta, pero los pasos pueden repetirse y modificarse según el problema en el que estés trabajando.\n",
    "\n",
    "Específicamente, vamos a cubrir:\n",
    "\n",
    "| **Tema** | **Contenido** |\n",
    "| ----- | ----- |\n",
    "| **1. Preparación de datos** | Los datos pueden ser casi cualquier cosa, pero para empezar vamos a crear una simple línea recta |\n",
    "| **2. Construcción del modelo** | Aquí crearemos un modelo para aprender patrones en los datos, también elegiremos una **función de pérdida**, un **optimizador** y construiremos un **bucle de entrenamiento**. |\n",
    "| **3. Ajuste del modelo a los datos (entrenamiento)** | Ya tenemos datos y un modelo, ahora dejemos que el modelo (intente) encontrar patrones en los datos de (**entrenamiento**). |\n",
    "| **4. Hacer predicciones y evaluar el modelo (inferencia)** | Nuestro modelo encontró patrones en los datos, comparemos sus hallazgos con los datos (**de prueba**) reales. |\n",
    "| **5. Guardar y cargar un modelo** | Podemos querer usar nuestro modelo en otro lugar o volver a él más tarde. |\n"
   ]
  },
  {
   "cell_type": "markdown",
   "metadata": {
    "id": "L9EOt5cbod6l"
   },
   "source": [
    "Ahora importemos lo que necesitaremos para este módulo.\n",
    "\n",
    "Vamos a obtener `torch`, `torch.nn` (`nn` significa red neuronal y este paquete contiene los componentes básicos para crear redes neuronales en PyTorch) y `matplotlib`.\n"
   ]
  },
  {
   "cell_type": "code",
   "execution_count": null,
   "metadata": {
    "colab": {
     "base_uri": "https://localhost:8080/",
     "height": 35
    },
    "executionInfo": {
     "elapsed": 3961,
     "status": "ok",
     "timestamp": 1731269257465,
     "user": {
      "displayName": "Cecilia Bolaños",
      "userId": "02360097163595328419"
     },
     "user_tz": 180
    },
    "id": "ZT_ikDC-ec0w",
    "outputId": "f8b57400-f385-4421-8664-c5f4f0ba3738"
   },
   "outputs": [],
   "source": [
    "import torch\n",
    "from torch import nn\n",
    "import matplotlib.pyplot as plt\n",
    "\n",
    "torch.__version__"
   ]
  },
  {
   "cell_type": "markdown",
   "metadata": {
    "id": "ci_-geIdec0w"
   },
   "source": [
    "## 1. Datos (preparación y carga)\n",
    "\n",
    "Los \"datos\" pueden ser casi cualquier cosa que se puedan imaginar. Una tabla de números (como una hoja de Excel), imágenes de cualquier tipo, videos, archivos de audio como canciones o podcasts, estructuras de proteínas, texto y más.\n",
    "\n",
    "![el aprendizaje automático es un juego de dos partes: 1. convertir tus datos en un conjunto representativo de números y 2. construir o elegir un modelo para aprender la representación lo mejor posible](https://raw.githubusercontent.com/mrdbourke/pytorch-deep-learning/main/images/01-machine-learning-a-game-of-two-parts.png)\n",
    "\n",
    "El aprendizaje automático consta de dos partes:\n",
    "1. Convertir tus datos, sean cuales sean, en números (una representación).\n",
    "2. Elegir o construir un modelo para aprender la representación lo mejor posible.\n",
    "\n",
    "Para este notebook crearemos nuestros datos y, luego, les tocará a ustedes trabajar con datasets ya creados.\n",
    "\n",
    "Usaremos [regresión lineal](https://en.wikipedia.org/wiki/Linear_regression) para crear los datos con **parámetros** conocidos y luego usaremos PyTorch para ver si podemos construir un modelo para estimar estos parámetros usando [**descenso de gradiente**](https://en.wikipedia.org/wiki/Gradient_descent)."
   ]
  },
  {
   "cell_type": "markdown",
   "metadata": {
    "id": "b1ytFyUosGf5"
   },
   "source": [
    "### Dataset y DataLoader\n",
    "\n",
    "Las clases `Dataset` y `DataLoader` de PyTorch destacan por su capacidad para agilizar el preprocesamiento y la carga de datos.\n",
    "\n",
    "La clase `Dataset` en PyTorch proporciona una interfaz para acceder a los datos. Permite definir cómo deben leerse, transformarse y accederse tus datos. La clase `DataLoader`, por otro lado, proporciona una forma eficiente de iterar sobre tu conjunto de datos en batches, lo cual es crucial para entrenar modelos.\n"
   ]
  },
  {
   "cell_type": "markdown",
   "metadata": {
    "id": "RUu7f4M4xRnJ"
   },
   "source": [
    "Para crear un conjunto de datos personalizado, necesitamos definir una clase que herede de `torch.utils.data.Dataset`. Esta clase debe implementar tres métodos: `__init__`, `__len__`, y `__getitem__`.\n",
    "\n",
    "* `__init__`: Inicializa el conjunto de datos con cualquier atributo necesario como rutas de archivos o pasos de preprocesamiento de datos.\n",
    "* `__len__`: Devuelve el número total de muestras en tu conjunto de datos.\n",
    "* `__getitem__`: Recupera una muestra del conjunto de datos dado un índice."
   ]
  },
  {
   "cell_type": "code",
   "execution_count": null,
   "metadata": {
    "executionInfo": {
     "elapsed": 391,
     "status": "ok",
     "timestamp": 1731269276612,
     "user": {
      "displayName": "Cecilia Bolaños",
      "userId": "02360097163595328419"
     },
     "user_tz": 180
    },
    "id": "yI8WO6cVqEQB"
   },
   "outputs": [],
   "source": [
    "from torch.utils.data import Dataset, DataLoader, random_split\n",
    "\n",
    "class LinearRegressionDataset(Dataset):\n",
    "    \"\"\"Custom Dataset for Linear Regression\"\"\"\n",
    "    def __init__(self, start=0, end=1, step=0.02, weight=0.7, bias=0.3):\n",
    "        \"\"\"\n",
    "        Initialize the dataset with given parameters\n",
    "\n",
    "        Args:\n",
    "            start (float): Starting value for X\n",
    "            end (float): Ending value for X\n",
    "            step (float): Step size between X values\n",
    "            weight (float): Weight parameter for linear function (slope)\n",
    "            bias (float): Bias parameter for linear function (intercept)\n",
    "        \"\"\"\n",
    "        self.X = torch.arange(start, end, step).unsqueeze(dim=1)\n",
    "        self.y = weight * self.X + bias\n",
    "\n",
    "    def __len__(self):\n",
    "        \"\"\"Return the size of the dataset\"\"\"\n",
    "        return len(self.X)\n",
    "\n",
    "    def __getitem__(self, idx):\n",
    "        \"\"\"Get a sample from the dataset\"\"\"\n",
    "        return self.X[idx], self.y[idx]\n"
   ]
  },
  {
   "cell_type": "code",
   "execution_count": null,
   "metadata": {
    "executionInfo": {
     "elapsed": 4,
     "status": "ok",
     "timestamp": 1731269301952,
     "user": {
      "displayName": "Cecilia Bolaños",
      "userId": "02360097163595328419"
     },
     "user_tz": 180
    },
    "id": "CxDv_VVyqnoF"
   },
   "outputs": [],
   "source": [
    "full_dataset = LinearRegressionDataset(start=0, end=15, step=0.02, weight=0.7, bias=0.3)"
   ]
  },
  {
   "cell_type": "markdown",
   "metadata": {
    "id": "YApM7diprjP0"
   },
   "source": [
    "### Separar datos en entrenamiento y testeo\n"
   ]
  },
  {
   "cell_type": "markdown",
   "metadata": {
    "id": "s1gL0L5HqPHn"
   },
   "source": [
    "En el aprendizaje profundo, es fundamental separar nuestros datos en conjuntos de entrenamiento y prueba. Para manejar estos conjuntos de manera eficiente, utilizamos ```torch.utils.data.DataLoader```, que nos permite:\n",
    "\n",
    "1. **Procesar los datos por batches**: Optimiza el uso de memoria y acelera el entrenamiento.\n",
    "2. **Cargar los datos de manera eficiente**: Utiliza la API de ```torch.utils.data.Dataset``` para gestionar el acceso a los datos.\n",
    "3. **Construir minibatches**: Permite definir el tamaño de batch según nuestras necesidades.\n",
    "\n",
    "### Configuración de DataLoaders\n",
    "\n",
    "En la práctica, necesitamos dos DataLoaders diferentes:\n",
    "\n",
    "1. **DataLoader de Entrenamiento**:\n",
    "   * Se configura con ```shuffle=True```\n",
    "   * Aleatoriza las muestras en cada epoch\n",
    "   * Ayuda a prevenir el sobreajuste (overfitting)\n",
    "   * Asegura que la red vea combinaciones diferentes de datos en cada epoch\n",
    "\n",
    "2. **DataLoader de Validación**:\n",
    "   * Se configura con ```shuffle=False```\n",
    "   * Mantiene un orden consistente de los datos\n",
    "\n",
    "Vamos a crear los dos dataloaders:"
   ]
  },
  {
   "cell_type": "code",
   "execution_count": null,
   "metadata": {
    "executionInfo": {
     "elapsed": 333,
     "status": "ok",
     "timestamp": 1731269320396,
     "user": {
      "displayName": "Cecilia Bolaños",
      "userId": "02360097163595328419"
     },
     "user_tz": 180
    },
    "id": "BpyB7JgHec0y"
   },
   "outputs": [],
   "source": [
    "total_size = len(full_dataset)\n",
    "train_size = int(0.8 * total_size)\n",
    "test_size = total_size - train_size\n",
    "\n",
    "# Separar el dataset\n",
    "train_dataset, test_dataset = random_split(full_dataset, [train_size, test_size])\n",
    "\n",
    "# Crear dataloaders\n",
    "batch_size = 8\n",
    "\n",
    "train_loader = DataLoader(\n",
    "    dataset=train_dataset,\n",
    "    batch_size=batch_size,\n",
    "    shuffle=True,\n",
    "    num_workers=0\n",
    ")\n",
    "\n",
    "test_loader = DataLoader(\n",
    "    dataset=test_dataset,\n",
    "    batch_size=batch_size,\n",
    "    shuffle=False,  # No es necesario shufflear el test\n",
    "    num_workers=0\n",
    ")"
   ]
  },
  {
   "cell_type": "markdown",
   "metadata": {
    "id": "kpA6OI5nqKzo"
   },
   "source": [
    "Ahora vamos a querer aprender los parámetros teniendo a `X` (**features**) e `y` (**labels**)."
   ]
  },
  {
   "cell_type": "markdown",
   "metadata": {
    "id": "0eFsorRHec00"
   },
   "source": [
    "## 2. Construir el modelo\n",
    "\n",
    "Ahora que tenemos algunos datos, vamos a construir un modelo para intentar aprender los parámetros desconocidos.\n",
    "\n",
    "En este caso replicaremos un modelo estándar de regresión lineal usando PyTorch puro. (Acá es donde pueden armar la arquitectura que quieran, convolucionales, RNNs)"
   ]
  },
  {
   "cell_type": "code",
   "execution_count": null,
   "metadata": {
    "executionInfo": {
     "elapsed": 430,
     "status": "ok",
     "timestamp": 1731269326389,
     "user": {
      "displayName": "Cecilia Bolaños",
      "userId": "02360097163595328419"
     },
     "user_tz": 180
    },
    "id": "jhcUJBFuec00"
   },
   "outputs": [],
   "source": [
    "# Crear una clase de modelo de Regresión Lineal\n",
    "class LinearRegressionModel(nn.Module): # <- casi todo en PyTorch es un nn.Module (piensa en esto como bloques de lego de redes neuronales)\n",
    "    def __init__(self):\n",
    "        super().__init__()\n",
    "        self.weights = nn.Parameter(torch.randn(1, # <- comenzar con pesos aleatorios (esto se ajustará mientras el modelo aprende)\n",
    "                                              dtype=torch.float), # <- PyTorch prefiere float32 por defecto\n",
    "                                   requires_grad=True) # <- ¿podemos actualizar este valor con descenso de gradiente?\n",
    "\n",
    "        self.bias = nn.Parameter(torch.randn(1, # <- comenzar con sesgo aleatorio (esto se ajustará mientras el modelo aprende)\n",
    "                                           dtype=torch.float), # <- PyTorch prefiere float32 por defecto\n",
    "                               requires_grad=True) # <- ¿podemos actualizar este valor con descenso de gradiente?\n",
    "\n",
    "    # Forward define la pasada forward en el modelo\n",
    "    def forward(self, x: torch.Tensor) -> torch.Tensor: # <- \"x\" son los datos de entrada (\n",
    "        return self.weights * x + self.bias # <- esta es la fórmula de regresión lineal (y = m*x + b)"
   ]
  },
  {
   "cell_type": "markdown",
   "metadata": {
    "id": "xhu5wxVO7s_q"
   },
   "source": [
    "\n",
    "> **Más info:** Usaremos clases de Python para crear diferentes partes para construir redes neuronales. Si no están familiarizados con la notación de clases en Python, recomiendo leer varias veces la [guía de Programación Orientada a Objetos en Python 3 de Real Python](https://realpython.com/python3-object-oriented-programming/).\n"
   ]
  },
  {
   "cell_type": "markdown",
   "metadata": {
    "id": "iRRq3a0Gvvnl"
   },
   "source": [
    "### Elementos esenciales para construir modelos en PyTorch\n",
    "\n",
    "PyTorch tiene cuatro (más o menos) módulos esenciales que puedes usar para crear casi cualquier tipo de red neuronal.\n",
    "\n",
    "Estos son [`torch.nn`](https://pytorch.org/docs/stable/nn.html), [`torch.optim`](https://pytorch.org/docs/stable/optim.html), [`torch.utils.data.Dataset`](https://pytorch.org/docs/stable/data.html#torch.utils.data.Dataset) y [`torch.utils.data.DataLoader`](https://pytorch.org/docs/stable/data.html).\n",
    "\n",
    "| Módulo PyTorch | ¿Qué hace? |\n",
    "| ----- | ----- |\n",
    "| [`torch.nn`](https://pytorch.org/docs/stable/nn.html) | Contiene todos los bloques de construcción para grafos computacionales (esencialmente una serie de cálculos ejecutados de una manera particular). |\n",
    "| [`torch.nn.Parameter`](https://pytorch.org/docs/stable/generated/torch.nn.parameter.Parameter.html#parameter) | Almacena tensores que pueden ser usados con `nn.Module`. Si `requires_grad=True`, los gradientes (usados para actualizar parámetros del modelo mediante [**descenso de gradiente**](https://ml-cheatsheet.readthedocs.io/en/latest/gradient_descent.html)) se calculan automáticamente, esto se conoce frecuentemente como \"autograd\". |\n",
    "| [`torch.nn.Module`](https://pytorch.org/docs/stable/generated/torch.nn.Module.html#torch.nn.Module) | La clase base para todos los módulos de redes neuronales, todos los bloques de construcción para redes neuronales son subclases. Si estás construyendo una red neuronal en PyTorch, tus modelos deberían heredar de `nn.Module`. Requiere que se implemente un método `forward()`. |\n",
    "| [`torch.optim`](https://pytorch.org/docs/stable/optim.html) | Contiene varios algoritmos de optimización (estos le dicen a los parámetros del modelo almacenados en `nn.Parameter` cómo cambiar mejor para mejorar el descenso de gradiente y a su vez reducir la pérdida). |\n",
    "| `def forward()` | Todas las subclases de `nn.Module` requieren un método `forward()`, esto define el cálculo que se realizará en los datos pasados al `nn.Module` particular (por ejemplo, la fórmula de regresión lineal anterior). |\n",
    "\n",
    "Si lo anterior suena complejo, piénsalo así, casi todo en una red neuronal de PyTorch viene de `torch.nn`,\n",
    "* `nn.Module` contiene los bloques de construcción más grandes (capas)\n",
    "* `nn.Parameter` contiene los parámetros más pequeños como pesos y sesgos\n",
    "* `forward()` le dice a los bloques más grandes cómo hacer cálculos en las entradas (tensores llenos de datos) dentro de los `nn.Module`(s)\n",
    "* `torch.optim` contiene métodos de optimización sobre cómo mejorar los parámetros dentro de `nn.Parameter` para representar mejor los datos de entrada\n",
    "\n",
    "\n",
    "> **Más info:** [Hoja de Trucos de PyTorch](https://pytorch.org/tutorials/beginner/ptcheat.html).\n"
   ]
  },
  {
   "cell_type": "markdown",
   "metadata": {
    "id": "HYt5sKsgufG7"
   },
   "source": [
    "### Revisando el contenido de un modelo PyTorch\n",
    "\n",
    "Vamos a crear una instancia del modelo con la clase que creamos y revisar sus parámetros usando [`.parameters()`](https://pytorch.org/docs/stable/generated/torch.nn.Module.html#torch.nn.Module.parameters)."
   ]
  },
  {
   "cell_type": "code",
   "execution_count": null,
   "metadata": {
    "colab": {
     "base_uri": "https://localhost:8080/"
    },
    "executionInfo": {
     "elapsed": 2,
     "status": "ok",
     "timestamp": 1731269333690,
     "user": {
      "displayName": "Cecilia Bolaños",
      "userId": "02360097163595328419"
     },
     "user_tz": 180
    },
    "id": "CsEKA3A_ec01",
    "outputId": "6a67bca3-e8c6-4e96-fdf8-2ca651115497"
   },
   "outputs": [],
   "source": [
    "# Establecer semilla manual ya que nn.Parameter se inicializa aleatoriamente\n",
    "torch.manual_seed(42)\n",
    "\n",
    "# Crear una instancia del modelo (esto es una subclase de nn.Module que contiene nn.Parameter(s))\n",
    "model_0 = LinearRegressionModel()\n",
    "\n",
    "# Revisar los nn.Parameter(s) dentro de la subclase nn.Module que creamos\n",
    "list(model_0.parameters())"
   ]
  },
  {
   "cell_type": "markdown",
   "metadata": {
    "id": "CNOmcQdSq34e"
   },
   "source": [
    "También podemos obtener el estado (lo que contiene el modelo) del modelo usando [`.state_dict()`](https://pytorch.org/docs/stable/generated/torch.nn.Module.html#torch.nn.Module.state_dict).\n"
   ]
  },
  {
   "cell_type": "code",
   "execution_count": null,
   "metadata": {
    "colab": {
     "base_uri": "https://localhost:8080/"
    },
    "executionInfo": {
     "elapsed": 319,
     "status": "ok",
     "timestamp": 1731269479139,
     "user": {
      "displayName": "Cecilia Bolaños",
      "userId": "02360097163595328419"
     },
     "user_tz": 180
    },
    "id": "XC1N_1Qrec01",
    "outputId": "436c0c8c-b2d3-4b6a-ca2e-aaf3570ac17d"
   },
   "outputs": [],
   "source": [
    "model_0.state_dict()"
   ]
  },
  {
   "cell_type": "markdown",
   "metadata": {
    "id": "BDKdLN7nuheb"
   },
   "source": [
    "### Haciendo predicciones usando `torch.inference_mode()`\n",
    "\n",
    "Podemos pasarle los datos de prueba `X_test` para ver qué tan cerca predice `y_test`.\n",
    "\n",
    "Cuando pasamos datos a nuestro modelo, estos pasarán por el método `forward()` del modelo y producirán un resultado usando lo que definimos.\n"
   ]
  },
  {
   "cell_type": "code",
   "execution_count": null,
   "metadata": {
    "colab": {
     "base_uri": "https://localhost:8080/"
    },
    "collapsed": true,
    "executionInfo": {
     "elapsed": 2,
     "status": "ok",
     "timestamp": 1731269488056,
     "user": {
      "displayName": "Cecilia Bolaños",
      "userId": "02360097163595328419"
     },
     "user_tz": 180
    },
    "id": "-ITlZgU5ec02",
    "outputId": "9bbaca77-e199-416a-ab8d-bc2072b973b2"
   },
   "outputs": [],
   "source": [
    "predictions = []\n",
    "with torch.inference_mode():  # o torch.no_grad()\n",
    "    for X_batch, y_batch in test_loader:\n",
    "        batch_preds = model_0(X_batch)\n",
    "        predictions.append(batch_preds)\n",
    "\n",
    "    y_preds = torch.cat(predictions)\n",
    "\n",
    "print(y_preds)\n",
    "\n",
    "# with torch.no_grad():\n",
    "#   y_preds = model_0(X_test)"
   ]
  },
  {
   "cell_type": "markdown",
   "metadata": {
    "id": "L_Bx5I1FsIS0"
   },
   "source": [
    "Como sugiere el nombre, `torch.inference_mode()` se usa cuando se utiliza un modelo para inferencia (hacer predicciones).\n",
    "\n",
    "`torch.inference_mode()` desactiva varias cosas (como el seguimiento de gradientes, que es necesario para el entrenamiento pero no para la inferencia) para hacer los **pases hacia adelante** (datos pasando por el método `forward()`) más rápidos.\n",
    "\n",
    "> **Nota:** En código más antiguo de PyTorch, también pueden encontrar `torch.no_grad()` siendo usado para inferencia. Aunque `torch.inference_mode()` y `torch.no_grad()` hacen cosas similares, `torch.inference_mode()` es más nuevo, potencialmente más rápido y preferido. Mira este [Tweet de PyTorch](https://twitter.com/PyTorch/status/1437838231505096708?s=20) para más información.\n"
   ]
  },
  {
   "cell_type": "code",
   "execution_count": null,
   "metadata": {
    "colab": {
     "base_uri": "https://localhost:8080/"
    },
    "executionInfo": {
     "elapsed": 305,
     "status": "ok",
     "timestamp": 1731269556031,
     "user": {
      "displayName": "Cecilia Bolaños",
      "userId": "02360097163595328419"
     },
     "user_tz": 180
    },
    "id": "k4xCScCvec02",
    "outputId": "ea2563b7-2766-40ea-b6b9-32e0410d7cb5"
   },
   "outputs": [],
   "source": [
    "# Chequear predicciones\n",
    "print(f\"Número de muestras de prueba: {test_size}\")\n",
    "print(f\"Número de predicciones realizadas: {len(y_preds)}\")"
   ]
  },
  {
   "cell_type": "markdown",
   "metadata": {
    "id": "FnSwGbQEupZs"
   },
   "source": [
    "Observemos cómo hay un valor de predicción por cada muestra de prueba.\n",
    "\n",
    "Esto es debido al tipo de datos que estamos usando. Para nuestra línea recta, un valor de `X` se corresponde con un valor de `y`.\n",
    "\n",
    "Sin embargo, los modelos de aprendizaje automático son muy flexibles. Podríamos tener 100 valores de `X` correspondiendo a uno, dos, tres o 10 valores de `y`. Todo depende de lo que estemos trabajando."
   ]
  },
  {
   "cell_type": "code",
   "execution_count": null,
   "metadata": {
    "executionInfo": {
     "elapsed": 310,
     "status": "ok",
     "timestamp": 1731269672611,
     "user": {
      "displayName": "Cecilia Bolaños",
      "userId": "02360097163595328419"
     },
     "user_tz": 180
    },
    "id": "Mjip-vZHtTLo"
   },
   "outputs": [],
   "source": [
    "y_test = torch.cat([batch[1] for batch in test_loader])"
   ]
  },
  {
   "cell_type": "code",
   "execution_count": null,
   "metadata": {
    "colab": {
     "base_uri": "https://localhost:8080/"
    },
    "collapsed": true,
    "executionInfo": {
     "elapsed": 304,
     "status": "ok",
     "timestamp": 1731269675582,
     "user": {
      "displayName": "Cecilia Bolaños",
      "userId": "02360097163595328419"
     },
     "user_tz": 180
    },
    "id": "JLJWVANkhY3-",
    "outputId": "c68e4e40-0e93-418b-cefd-d27619ef506d"
   },
   "outputs": [],
   "source": [
    "y_test - y_preds"
   ]
  },
  {
   "cell_type": "markdown",
   "metadata": {
    "id": "lxt8WUzdv1qS"
   },
   "source": [
    "Las predicciones están bastante lejos de la realidad. Esto tiene sentido cuando recordamos que nuestro modelo está usando solo valores de parámetros aleatorios para hacer predicciones.\n"
   ]
  },
  {
   "cell_type": "markdown",
   "metadata": {
    "id": "ZZpa-fXLec03"
   },
   "source": [
    "## 3. Entrenar el modelo\n",
    "\n",
    "Ahora mismo nuestro modelo está haciendo predicciones usando parámetros aleatorios para hacer cálculos, básicamente está adivinando (al azar).\n",
    "\n",
    "Para arreglar esto, podemos actualizar sus parámetros internos, los valores de `weights` (pesos) y `bias` (sesgo) que establecimos aleatoriamente usando `nn.Parameter()` y `torch.randn()` para que sean algo que represente mejor los datos.\n"
   ]
  },
  {
   "cell_type": "markdown",
   "metadata": {
    "id": "aD8pnhJUyZUT"
   },
   "source": [
    "### Creando una función de pérdida y un optimizador en PyTorch\n",
    "\n",
    "Necesitamos agregar una **función de pérdida** y un **optimizador**.\n",
    "\n",
    "Sus roles son:\n",
    "\n",
    "| Función | ¿Qué hace? | ¿Dónde se encuentra en PyTorch? | Valores comunes |\n",
    "| ----- | ----- | ----- | ----- |\n",
    "| **Función de pérdida** | Mide qué tan equivocadas están las predicciones de tu modelo (ej. `y_preds`) comparadas con las etiquetas verdaderas (ej. `y_test`). Mientras más bajo, mejor. | PyTorch tiene muchas funciones de pérdida incorporadas en [`torch.nn`](https://pytorch.org/docs/stable/nn.html#loss-functions). | Error absoluto medio (MAE) para problemas de regresión ([`torch.nn.L1Loss()`](https://pytorch.org/docs/stable/generated/torch.nn.L1Loss.html)). Entropía cruzada binaria para problemas de clasificación binaria ([`torch.nn.BCELoss()`](https://pytorch.org/docs/stable/generated/torch.nn.BCELoss.html)). |\n",
    "| **Optimizador** | Le dice a nuestro modelo cómo actualizar sus parámetros internos para reducir mejor la pérdida. | Pueden encontrar varias implementaciones de funciones de optimización en [`torch.optim`](https://pytorch.org/docs/stable/optim.html). | Descenso de gradiente estocástico ([`torch.optim.SGD()`](https://pytorch.org/docs/stable/generated/torch.optim.SGD.html#torch.optim.SGD)). Optimizador Adam ([`torch.optim.Adam()`](https://pytorch.org/docs/stable/generated/torch.optim.Adam.html#torch.optim.Adam)). |\n",
    "\n",
    "\n",
    "Para nuestro problema, ya que estamos prediciendo un número, usemos MAE (que está bajo `torch.nn.L1Loss()`) en PyTorch como nuestra función de pérdida.\n",
    "\n",
    "Y usaremos SGD, `torch.optim.SGD(params, lr)` donde:\n",
    "\n",
    "* `params` son los parámetros objetivo del modelo que nos gustaría optimizar (ej. los valores de `weights` y `bias` que establecimos aleatoriamente antes).\n",
    "* `lr` es la **tasa de aprendizaje** a la que nos gustaría que el optimizador actualice los parámetros, más alta significa que el optimizador intentará actualizaciones más grandes (estas pueden ser a veces demasiado grandes y el optimizador fallará), más baja significa que el optimizador intentará actualizaciones más pequeñas (estas pueden ser a veces demasiado pequeñas y el optimizador tardará demasiado en encontrar los valores ideales). La tasa de aprendizaje se considera un **hiperparámetro** (porque es establecida por un ingeniero de aprendizaje automático). Los valores iniciales comunes para la tasa de aprendizaje son `0.01`, `0.001`, `0.0001`, sin embargo, estos también pueden ajustarse con el tiempo (esto se llama [programación de tasa de aprendizaje](https://pytorch.org/docs/stable/optim.html#how-to-adjust-learning-rate))."
   ]
  },
  {
   "cell_type": "code",
   "execution_count": null,
   "metadata": {
    "executionInfo": {
     "elapsed": 4816,
     "status": "ok",
     "timestamp": 1731269694835,
     "user": {
      "displayName": "Cecilia Bolaños",
      "userId": "02360097163595328419"
     },
     "user_tz": 180
    },
    "id": "P3T7hpNPec03"
   },
   "outputs": [],
   "source": [
    "# Crear la función de pérdida\n",
    "loss_fn = nn.L1Loss() # La pérdida MAE es lo mismo que L1Loss\n",
    "\n",
    "# Crear el optimizador\n",
    "optimizer = torch.optim.SGD(params=model_0.parameters(), # parámetros del modelo objetivo para optimizar\n",
    "                          lr=0.01) # tasa de aprendizaje (cuánto debe cambiar el optimizador los parámetros en cada paso, mayor=más (menos estable), menor=menos (podría tomar mucho tiempo))"
   ]
  },
  {
   "cell_type": "markdown",
   "metadata": {
    "id": "aFcKCsPcRfnA"
   },
   "source": [
    "### Creando un bucle de optimización en PyTorch\n",
    "\n",
    "Ahora que tenemos una función de pérdida y un optimizador, es hora de crear un **bucle de entrenamiento** (y un **bucle de prueba**).\n",
    "\n",
    "El bucle de entrenamiento implica que el modelo recorra los datos de entrenamiento y aprenda las relaciones entre las `features` (características) y las `labels` (etiquetas).\n",
    "\n",
    "El bucle de prueba implica recorrer los datos de prueba y evaluar qué tan buenos son los patrones que el modelo aprendió en los datos de entrenamiento (el modelo nunca ve los datos de prueba durante el entrenamiento)."
   ]
  },
  {
   "cell_type": "markdown",
   "metadata": {
    "id": "agXn72H-sgyd"
   },
   "source": [
    "### Bucle de entrenamiento en PyTorch\n",
    "\n",
    "Para el bucle de entrenamiento, construiremos los siguientes pasos:\n",
    "\n",
    "| Número | Nombre del paso | ¿Qué hace? | Ejemplo de código |\n",
    "| ----- | ----- | ----- | ----- |\n",
    "| 1 | forward pass | El modelo recorre todos los datos de entrenamiento una vez, realizando los cálculos de su función `forward()`. | `model(x_train)` |\n",
    "| 2 | Calcular la pérdida | Las salidas del modelo (predicciones) se comparan con la verdad fundamental y se evalúan para ver qué tan equivocadas están. | `loss = loss_fn(y_pred, y_train)` |\n",
    "| 3 | Poner gradientes a cero | Los gradientes del optimizador se ponen a cero (se acumulan por defecto) para que puedan ser recalculados para el paso de entrenamiento específico. | `optimizer.zero_grad()` |\n",
    "| 4 | Realizar retropropagación en la pérdida | Calcula el gradiente de la pérdida con respecto a cada parámetro del modelo que se actualizará (cada parámetro con `requires_grad=True`). Esto se conoce como **retropropagación** o **backpropagation**, de ahí \"backwards\". | `loss.backward()` |\n",
    "| 5 | Actualizar el optimizador (**descenso de gradiente**) | Actualiza los parámetros con `requires_grad=True` con respecto a los gradientes de pérdida para mejorarlos. | `optimizer.step()` |\n",
    "\n",
    "![bucle de entrenamiento pytorch anotado](https://raw.githubusercontent.com/mrdbourke/pytorch-deep-learning/main/images/01-pytorch-training-loop-annotated.png)\n",
    "\n",
    "> Y sobre el orden de las cosas, el anterior es un buen orden por defecto, pero puedes ver órdenes ligeramente diferentes. Algunas reglas generales:\n",
    "> * Calcular la pérdida (`loss = ...`) *antes* de realizar la retropropagación en ella (`loss.backward()`).\n",
    "> * Poner los gradientes a cero (`optimizer.zero_grad()`) *antes* de calcular los gradientes de la pérdida con respecto a cada parámetro del modelo (`loss.backward()`).\n",
    "> * Dar un paso en el optimizador (`optimizer.step()`) *después* de realizar la retropropagación en la pérdida (`loss.backward()`)."
   ]
  },
  {
   "cell_type": "markdown",
   "metadata": {
    "id": "OXHDdlfjssDc"
   },
   "source": [
    "### Bucle de testing en PyTorch\n",
    "\n",
    "En cuanto al bucle de testing (evaluación de nuestro modelo), los pasos típicos incluyen:\n",
    "\n",
    "| Número | Nombre del paso | ¿Qué hace? | Ejemplo de código |\n",
    "| ----- | ----- | ----- | ----- |\n",
    "| 1 | forward pass | El modelo recorre todos los datos de prueba una vez, realizando los cálculos de su función `forward()`. | `model(x_test)` |\n",
    "| 2 | Calcular la pérdida | Las salidas del modelo (predicciones) se comparan con la verdad y se evalúan para ver qué tan equivocadas están. | `loss = loss_fn(y_pred, y_test)` |\n",
    "| 3 | Calcular métricas de evaluación (opcional) | Junto con el valor de pérdida, puedes querer calcular otras métricas de evaluación como la precisión en el conjunto de prueba. | Funciones personalizadas |\n",
    "\n",
    "Este bucle no contiene la realización de retropropagación (`loss.backward()`) ni el paso del optimizador (`optimizer.step()`), esto es porque ningún parámetro en el modelo está siendo cambiado durante la prueba. Para las pruebas, solo nos interesa la salida del pase hacia adelante a través del modelo.\n",
    "\n",
    "![bucle de prueba pytorch anotado](https://raw.githubusercontent.com/mrdbourke/pytorch-deep-learning/main/images/01-pytorch-testing-loop-annotated.png)"
   ]
  },
  {
   "cell_type": "code",
   "execution_count": null,
   "metadata": {
    "colab": {
     "base_uri": "https://localhost:8080/"
    },
    "executionInfo": {
     "elapsed": 5219,
     "status": "ok",
     "timestamp": 1731269767741,
     "user": {
      "displayName": "Cecilia Bolaños",
      "userId": "02360097163595328419"
     },
     "user_tz": 180
    },
    "id": "k1DfhyJ7ec03",
    "outputId": "17246435-67e2-4bae-f20c-7e2f495ca7d0"
   },
   "outputs": [],
   "source": [
    "torch.manual_seed(42)\n",
    "\n",
    "epochs = 100\n",
    "\n",
    "# Empty lists to track values\n",
    "train_loss_values = []\n",
    "test_loss_values = []\n",
    "epoch_count = []\n",
    "\n",
    "for epoch in range(epochs):\n",
    "    ### Training\n",
    "    model_0.train()\n",
    "    train_loss = 0\n",
    "\n",
    "    # Loop through training batches\n",
    "    for X_batch, y_batch in train_loader:\n",
    "        # 1. Forward pass\n",
    "        y_pred = model_0(X_batch)\n",
    "\n",
    "        # 2. Calculate loss\n",
    "        loss = loss_fn(y_pred, y_batch)\n",
    "\n",
    "        # 3. Zero gradients\n",
    "        optimizer.zero_grad()\n",
    "\n",
    "        # 4. Backpropagation\n",
    "        loss.backward()\n",
    "\n",
    "        # 5. Update parameters\n",
    "        optimizer.step()\n",
    "\n",
    "        # Accumulate batch loss\n",
    "        train_loss += loss.item()\n",
    "\n",
    "    # Calculate average training loss for the epoch\n",
    "    train_loss = train_loss / len(train_loader)\n",
    "\n",
    "    ### Testing\n",
    "    model_0.eval()\n",
    "    test_loss = 0\n",
    "\n",
    "    with torch.inference_mode():\n",
    "        # Loop through test batches\n",
    "        for X_batch, y_batch in test_loader:\n",
    "            # 1. Forward pass on test data\n",
    "            test_pred = model_0(X_batch)\n",
    "\n",
    "            # 2. Calculate test loss\n",
    "            batch_test_loss = loss_fn(test_pred, y_batch)\n",
    "\n",
    "            # Accumulate batch test loss\n",
    "            test_loss += batch_test_loss.item()\n",
    "\n",
    "        # Calculate average test loss for the epoch\n",
    "        test_loss = test_loss / len(test_loader)\n",
    "\n",
    "    # Print progress every 10 epochs\n",
    "    if epoch % 10 == 0:\n",
    "        epoch_count.append(epoch)\n",
    "        train_loss_values.append(train_loss)\n",
    "        test_loss_values.append(test_loss)\n",
    "        print(f\"Epoch: {epoch} | Train Loss: {train_loss:.5f} | Test Loss: {test_loss:.5f}\")"
   ]
  },
  {
   "cell_type": "markdown",
   "metadata": {
    "id": "lmqQE8Kpec04"
   },
   "source": [
    "\n",
    "Vamos a inspeccionar el [`.state_dict()`](https://pytorch.org/tutorials/recipes/recipes/what_is_state_dict.html) de nuestro modelo para ver qué tan cerca llega nuestro modelo a los valores originales que establecimos para los pesos y el sesgo.\n"
   ]
  },
  {
   "cell_type": "code",
   "execution_count": null,
   "metadata": {
    "colab": {
     "base_uri": "https://localhost:8080/"
    },
    "executionInfo": {
     "elapsed": 340,
     "status": "ok",
     "timestamp": 1731269792118,
     "user": {
      "displayName": "Cecilia Bolaños",
      "userId": "02360097163595328419"
     },
     "user_tz": 180
    },
    "id": "Ci0W7kn5ec04",
    "outputId": "a90d5a61-4497-4469-c0c9-f350e9d5b019"
   },
   "outputs": [],
   "source": [
    "# Revisar los parámetros del modelo\n",
    "print(\"\\nParámetros del modelo:\")\n",
    "print(model_0.state_dict())\n",
    "\n",
    "print(\"\\nValores originales:\")\n",
    "print(f\"weights: 0.7, bias: 0.3\")"
   ]
  },
  {
   "cell_type": "markdown",
   "metadata": {
    "id": "c-VBDFd2ec05"
   },
   "source": [
    "## 4. Haciendo predicciones con un modelo PyTorch entrenado (inferencia)\n",
    "\n",
    "Una vez que entrenamos un modelo, queremos hacer predicciones con él.\n",
    "\n",
    "Hay tres cosas para recordar cuando se hacen predicciones (también llamado realizar inferencia) con un modelo PyTorch:\n",
    "\n",
    "1. Establecer el modelo en modo evaluación (`model.eval()`).\n",
    "2. Hacer las predicciones usando `with torch.inference_mode(): ...`.\n",
    "3. Todas las predicciones deben hacerse con objetos en el mismo dispositivo (por ejemplo, datos y modelo solo en GPU o datos y modelo solo en CPU).\n",
    "\n",
    "Los primeros dos elementos aseguran que todos los cálculos y configuraciones útiles que PyTorch usa detrás de escenas durante el entrenamiento, pero que no son necesarios para la inferencia, estén desactivados (esto resulta en un cómputo más rápido). Y el tercero asegura que no te encontrarás con errores entre dispositivos."
   ]
  },
  {
   "cell_type": "code",
   "execution_count": null,
   "metadata": {
    "executionInfo": {
     "elapsed": 302,
     "status": "ok",
     "timestamp": 1731269882534,
     "user": {
      "displayName": "Cecilia Bolaños",
      "userId": "02360097163595328419"
     },
     "user_tz": 180
    },
    "id": "xKKxSBVuec05"
   },
   "outputs": [],
   "source": [
    "# 1. Establecer el modelo en modo evaluación\n",
    "model_0.eval()\n",
    "\n",
    "# 2. Calcular predicciones\n",
    "with torch.inference_mode():\n",
    "    predictions = []\n",
    "    true_values = []\n",
    "\n",
    "    for X_batch, y_batch in test_loader:\n",
    "        # Opcional: Mover los datos al dispositivo necesario\n",
    "        # X_batch = X_batch.to(device)\n",
    "        # y_batch = y_batch.to(device)\n",
    "\n",
    "        # Inferencia\n",
    "        batch_preds = model_0(X_batch)\n",
    "\n",
    "        # Guardar predicciones y real\n",
    "        predictions.append(batch_preds)\n",
    "        true_values.append(y_batch)\n",
    "\n",
    "    # Combinar las predicciones de todos los batches\n",
    "    y_preds = torch.cat(predictions)\n",
    "    y_test = torch.cat(true_values)"
   ]
  },
  {
   "cell_type": "markdown",
   "metadata": {
    "id": "8NRng9aEec05"
   },
   "source": [
    "## 5. Guardando y cargando un modelo PyTorch\n",
    "\n",
    "Si entrenamos un modelo PyTorch, es probable que queramos guardarlo y exportarlo a algún lugar.\n",
    "\n",
    "Para guardar y cargar modelos en PyTorch, hay tres métodos principales que deberiamos conocer (todo lo siguiente viene de la [guía de guardado y carga de modelos de PyTorch](https://pytorch.org/tutorials/beginner/saving_loading_models.html#saving-loading-model-for-inference)):\n",
    "\n",
    "| Método PyTorch | ¿Qué hace? |\n",
    "| ----- | ----- |\n",
    "| [`torch.save`](https://pytorch.org/docs/stable/torch.html?highlight=save#torch.save) | Guarda un objeto serializado en el disco usando la utilidad [`pickle`](https://docs.python.org/3/library/pickle.html) de Python. Los modelos, tensores y varios otros objetos de Python como diccionarios pueden guardarse usando `torch.save`. |\n",
    "| [`torch.load`](https://pytorch.org/docs/stable/torch.html?highlight=torch%20load#torch.load) | Usa las características de despickling de `pickle` para deserializar y cargar archivos de objetos Python guardados (como modelos, tensores o diccionarios) en la memoria. También puedes establecer a qué dispositivo cargar el objeto (CPU, GPU, etc.). |\n",
    "| [`torch.nn.Module.load_state_dict`](https://pytorch.org/docs/stable/generated/torch.nn.Module.html?highlight=load_state_dict#torch.nn.Module.load_state_dict) | Carga el diccionario de parámetros de un modelo (`model.state_dict()`) usando un objeto `state_dict()` guardado. |\n"
   ]
  },
  {
   "cell_type": "markdown",
   "metadata": {
    "id": "SdAGcH2aec05"
   },
   "source": [
    "### Guardando el `state_dict()` de un modelo PyTorch\n",
    "\n",
    "La [forma recomendada](https://pytorch.org/tutorials/beginner/saving_loading_models.html#saving-loading-model-for-inference) para guardar y cargar un modelo para inferencia (hacer predicciones) es guardando y cargando el `state_dict()` del modelo.\n",
    "\n",
    "Veamos cómo podemos hacer esto en algunos pasos:\n",
    "\n",
    "1. Crearemos un directorio llamado `models` para guardar modelos usando el módulo `pathlib` de Python.\n",
    "2. Crearemos una ruta de archivo para guardar el modelo.\n",
    "3. Llamaremos a `torch.save(obj, f)` donde `obj` es el `state_dict()` del modelo objetivo y `f` es el nombre del archivo donde guardar el modelo.\n",
    "\n",
    "> **Nota:** Es una convención común que los modelos u objetos guardados de PyTorch terminen con `.pt` o `.pth`, como `saved_model_01.pth`."
   ]
  },
  {
   "cell_type": "code",
   "execution_count": null,
   "metadata": {
    "colab": {
     "base_uri": "https://localhost:8080/"
    },
    "executionInfo": {
     "elapsed": 356,
     "status": "ok",
     "timestamp": 1731269920040,
     "user": {
      "displayName": "Cecilia Bolaños",
      "userId": "02360097163595328419"
     },
     "user_tz": 180
    },
    "id": "qsQhY2S2jv90",
    "outputId": "a7bbb35e-e87f-4cb9-c569-238dea50a95e"
   },
   "outputs": [],
   "source": [
    "# 1. Crear un directorio para guardar modelos\n",
    "from pathlib import Path\n",
    "MODEL_PATH = Path(\"models\")\n",
    "MODEL_PATH.mkdir(parents=True, exist_ok=True)\n",
    "\n",
    "# 2. Crear nombre de archivo para guardar el modelo\n",
    "MODEL_NAME = \"modelo_regresion_01.pth\"\n",
    "MODEL_SAVE_PATH = MODEL_PATH / MODEL_NAME\n",
    "\n",
    "# 3. Guardar el state_dict del modelo\n",
    "print(f\"Guardando modelo en: {MODEL_SAVE_PATH}\")\n",
    "torch.save(obj=model_0.state_dict(),\n",
    "          f=MODEL_SAVE_PATH)"
   ]
  },
  {
   "cell_type": "code",
   "execution_count": null,
   "metadata": {
    "colab": {
     "base_uri": "https://localhost:8080/"
    },
    "executionInfo": {
     "elapsed": 287,
     "status": "ok",
     "timestamp": 1731269922124,
     "user": {
      "displayName": "Cecilia Bolaños",
      "userId": "02360097163595328419"
     },
     "user_tz": 180
    },
    "id": "mpQc45zwec06",
    "outputId": "a991375f-8e8e-442e-8758-af5ea8a25470"
   },
   "outputs": [],
   "source": [
    "# Chequear que esta guardado\n",
    "!ls -l models/modelo_regresion_01.pth"
   ]
  },
  {
   "cell_type": "markdown",
   "metadata": {
    "id": "jFQpRoH5ec06"
   },
   "source": [
    "### Cargando el `state_dict()` de un modelo PyTorch guardado\n",
    "\n",
    "Tenemos un `state_dict()` guardado en `models/models/modelo_regresion_01.pth`, podemos cargarlo usando `torch.nn.Module.load_state_dict(torch.load(f))` donde `f` es la ruta del archivo de nuestro `state_dict()` guardado.\n",
    "\n",
    "¿Por qué llamar a `torch.load()` dentro de `torch.nn.Module.load_state_dict()`?\n",
    "\n",
    "Porque solo guardamos el `state_dict()` del modelo, que es un diccionario de parámetros aprendidos y no el modelo *completo*, primero tenemos que cargar el `state_dict()` con `torch.load()` y luego pasar ese `state_dict()` a una nueva instancia de nuestro modelo (que es una subclase de `nn.Module`).\n",
    "\n",
    "Vamos a probarlo creando otra instancia de `LinearRegressionModel()`, que es una subclase de `torch.nn.Module` y por lo tanto tendrá el método incorporado `load_state_dict()`."
   ]
  },
  {
   "cell_type": "code",
   "execution_count": null,
   "metadata": {
    "colab": {
     "base_uri": "https://localhost:8080/"
    },
    "executionInfo": {
     "elapsed": 296,
     "status": "ok",
     "timestamp": 1731269925551,
     "user": {
      "displayName": "Cecilia Bolaños",
      "userId": "02360097163595328419"
     },
     "user_tz": 180
    },
    "id": "1xnh3cFDec06",
    "outputId": "e99d6cef-ef1f-417b-82d3-6e35c2f6b597"
   },
   "outputs": [],
   "source": [
    "# Crear una nueva instancia de nuestro modelo (esto se iniciará con pesos aleatorios)\n",
    "loaded_model_0 = LinearRegressionModel()\n",
    "\n",
    "# Cargar el state_dict de nuestro modelo guardado (esto actualizará la nueva instancia de nuestro modelo con los pesos entrenados)\n",
    "loaded_model_0.load_state_dict(torch.load(f=MODEL_SAVE_PATH))"
   ]
  },
  {
   "cell_type": "code",
   "execution_count": null,
   "metadata": {
    "executionInfo": {
     "elapsed": 308,
     "status": "ok",
     "timestamp": 1731270082840,
     "user": {
      "displayName": "Cecilia Bolaños",
      "userId": "02360097163595328419"
     },
     "user_tz": 180
    },
    "id": "Ps-AuJqkec06"
   },
   "outputs": [],
   "source": [
    "# 1. Poner el modelo cargado en modo evaluación\n",
    "loaded_model_0.eval()\n",
    "\n",
    "# 2. Usar el administrador de contexto de modo inferencia para hacer predicciones\n",
    "with torch.inference_mode():\n",
    "    loaded_model_preds = []\n",
    "\n",
    "    for X_batch, y_batch in test_loader:\n",
    "\n",
    "      loaded_model_preds_batch = loaded_model_0(X_batch) # realizar un pase hacia adelante en los datos de prueba con el modelo cargado\n",
    "      loaded_model_preds.append(loaded_model_preds_batch)\n",
    "\n",
    "loaded_model_preds = torch.cat(loaded_model_preds)"
   ]
  },
  {
   "cell_type": "markdown",
   "metadata": {
    "id": "e81XpN8WSSqn"
   },
   "source": [
    "Ahora veamos si son las mismas que las predicciones anteriores.\n"
   ]
  },
  {
   "cell_type": "code",
   "execution_count": null,
   "metadata": {
    "colab": {
     "base_uri": "https://localhost:8080/"
    },
    "collapsed": true,
    "executionInfo": {
     "elapsed": 386,
     "status": "ok",
     "timestamp": 1731270091231,
     "user": {
      "displayName": "Cecilia Bolaños",
      "userId": "02360097163595328419"
     },
     "user_tz": 180
    },
    "id": "il9gqj6Nec06",
    "outputId": "9efcc561-fad3-400d-c5d0-7fbc7d2e362f"
   },
   "outputs": [],
   "source": [
    "# Comparar las predicciones del modelo anterior con las predicciones del modelo cargado (deberían ser las mismas)\n",
    "print(f\"Predicciones previas:\\n{y_preds}\\n\")\n",
    "print(f\"Predicciones del modelo cargado:\\n{loaded_model_preds}\\n\")\n",
    "print(f\"¿Son iguales?: {torch.all(torch.eq(y_preds, loaded_model_preds))}\")"
   ]
  },
  {
   "cell_type": "markdown",
   "metadata": {
    "id": "Ef_tquDLcSCf"
   },
   "source": [
    "## 6. Tarea"
   ]
  }
 ],
 "metadata": {
  "accelerator": "GPU",
  "colab": {
   "provenance": []
  },
  "interpreter": {
   "hash": "3fbe1355223f7b2ffc113ba3ade6a2b520cadace5d5ec3e828c83ce02eb221bf"
  },
  "kernelspec": {
   "display_name": "Python 3 (ipykernel)",
   "language": "python",
   "name": "python3"
  },
  "language_info": {
   "codemirror_mode": {
    "name": "ipython",
    "version": 3
   },
   "file_extension": ".py",
   "mimetype": "text/x-python",
   "name": "python",
   "nbconvert_exporter": "python",
   "pygments_lexer": "ipython3",
   "version": "3.7.4"
  }
 },
 "nbformat": 4,
 "nbformat_minor": 0
}
